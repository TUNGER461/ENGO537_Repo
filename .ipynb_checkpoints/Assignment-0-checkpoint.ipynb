{
 "cells": [
  {
   "cell_type": "code",
   "execution_count": 1,
   "id": "1b5df42c-9732-4567-a977-522433c1c344",
   "metadata": {},
   "outputs": [
    {
     "name": "stdout",
     "output_type": "stream",
     "text": [
      "Hello ENGO 537!\n"
     ]
    }
   ],
   "source": [
    "print(\"Hello ENGO 537!\")"
   ]
  },
  {
   "cell_type": "code",
   "execution_count": null,
   "id": "1c584e11-f35c-41dc-ad55-47efb22eb7e7",
   "metadata": {},
   "outputs": [],
   "source": []
  }
 ],
 "metadata": {
  "kernelspec": {
   "display_name": "Python [conda env:base] *",
   "language": "python",
   "name": "conda-base-py"
  },
  "language_info": {
   "codemirror_mode": {
    "name": "ipython",
    "version": 3
   },
   "file_extension": ".py",
   "mimetype": "text/x-python",
   "name": "python",
   "nbconvert_exporter": "python",
   "pygments_lexer": "ipython3",
   "version": "3.9.21"
  }
 },
 "nbformat": 4,
 "nbformat_minor": 5
}
